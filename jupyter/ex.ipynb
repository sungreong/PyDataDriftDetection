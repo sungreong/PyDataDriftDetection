{
 "cells": [
  {
   "cell_type": "code",
   "execution_count": 1,
   "metadata": {},
   "outputs": [],
   "source": [
    "import sys\n",
    "import numpy as np\n",
    "\n",
    "sys.path.append(\"./../\")\n",
    "from src.ks.datadriftks import DataDritDetectionKS\n",
    "from src.utils import PickleHandler\n",
    "\n"
   ]
  },
  {
   "cell_type": "code",
   "execution_count": 2,
   "metadata": {},
   "outputs": [],
   "source": [
    "ks = DataDritDetectionKS(p_value=0.05, save_fig_path=\"./hist.png\")"
   ]
  },
  {
   "cell_type": "code",
   "execution_count": 3,
   "metadata": {},
   "outputs": [
    {
     "data": {
      "text/plain": [
       "{'top': array([  2.,  20.,  43., 126., 251., 263., 184.,  77.,  29.,   5.]),\n",
       " 'bottom': array([0., 0., 0., 0., 0., 0., 0., 0., 0., 0.]),\n",
       " 'right': array([0.78538625, 1.77923064, 2.77307503, 3.76691942, 4.76076381,\n",
       "        5.7546082 , 6.74845259, 7.74229698, 8.73614137, 9.72998576]),\n",
       " 'left': array([-0.20845814,  0.78538625,  1.77923064,  2.77307503,  3.76691942,\n",
       "         4.76076381,  5.7546082 ,  6.74845259,  7.74229698,  8.73614137]),\n",
       " 'bins': array([-0.20845814,  0.78538625,  1.77923064,  2.77307503,  3.76691942,\n",
       "         4.76076381,  5.7546082 ,  6.74845259,  7.74229698,  8.73614137,\n",
       "         9.72998576])}"
      ]
     },
     "execution_count": 3,
     "metadata": {},
     "output_type": "execute_result"
    }
   ],
   "source": [
    "prev_data = np.random.normal(loc=5, scale=1.5, size=1000)\n",
    "prev_hist_info = ks.make_hist_info(prev_data, nbins=10)\n",
    "prev_hist_info"
   ]
  },
  {
   "cell_type": "code",
   "execution_count": null,
   "metadata": {},
   "outputs": [],
   "source": []
  }
 ],
 "metadata": {
  "kernelspec": {
   "display_name": "Python 3.8.13 ('pcb')",
   "language": "python",
   "name": "python3"
  },
  "language_info": {
   "codemirror_mode": {
    "name": "ipython",
    "version": 3
   },
   "file_extension": ".py",
   "mimetype": "text/x-python",
   "name": "python",
   "nbconvert_exporter": "python",
   "pygments_lexer": "ipython3",
   "version": "3.8.13"
  },
  "orig_nbformat": 4,
  "vscode": {
   "interpreter": {
    "hash": "5f34f50f4c635105d0e2673e05a75685805757d97f0204e88410f09ffbde1044"
   }
  }
 },
 "nbformat": 4,
 "nbformat_minor": 2
}
